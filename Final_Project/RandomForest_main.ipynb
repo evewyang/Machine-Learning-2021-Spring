{
 "cells": [
  {
   "cell_type": "code",
   "execution_count": 1,
   "metadata": {},
   "outputs": [],
   "source": [
    "# -*- coding: utf-8 -*-\n",
    "\"\"\"\n",
    "Created on Sun Apr 26 17:26:10 2020\n",
    "@author: Rai Kanwar Taimoor\n",
    "@adapted by Wenhan Yang on Wed May 5 2020\n",
    "\"\"\"\n",
    "\n",
    "import numpy as np\n",
    "import pandas as pd\n",
    "import matplotlib.image as img\n",
    "import matplotlib.pyplot as plt\n",
    "from prettytable import PrettyTable\n",
    "from sklearn.linear_model import LogisticRegression\n",
    "from sklearn.decomposition import PCA\n",
    "\n",
    "def to_lower(arr):\n",
    "    for i in range(0,len(arr)):\n",
    "        arr[i] = arr[i].lower()\n",
    "    return arr\n",
    "def attach(mat1,mat2):\n",
    "    mat2 = np.reshape(mat2,(1,(len(mat2)*len(mat2[0])*len(mat2[0][0]))))\n",
    "    if (type(mat1) != np.ndarray):\n",
    "        mat1 = np.array(mat1)\n",
    "        mat1 = mat2\n",
    "    else:\n",
    "        mat1 = np.append(mat1, mat2, axis=0)\n",
    "    return mat1\n",
    "def get_pic_matrix(input_data, filepath):\n",
    "    #initialize a new array to hold vectorized pics\n",
    "    input_pics = []\n",
    "    #two new list to record imgs' idx where they fail to open or process\n",
    "    idx_exception = []\n",
    "    #transfrom the corresponding pictures into matrices, then vectors.\n",
    "    #for train_pics in X_train:\n",
    "    for i in range(0, len(input_data)):\n",
    "        try:\n",
    "            image = img.imread(filepath + input_data[i])\n",
    "        except:\n",
    "            #record \"throw-away\" pics' idx\n",
    "            idx_exception.append(i)\n",
    "            continue\n",
    "        input_pics = attach(input_pics,image)\n",
    "    return input_pics, idx_exception"
   ]
  },
  {
   "cell_type": "code",
   "execution_count": 2,
   "metadata": {},
   "outputs": [],
   "source": [
    "# Initialization\n",
    "my_data = pd.read_csv('facial_expressions-master/data/legend.csv').values\n",
    "X_data = my_data[:, 1]\n",
    "y_data = my_data[:, 2]\n",
    "y_data = to_lower(y_data)\n",
    "# #y_data into int labels\n",
    "# y_dict, y_data = label_to_num(y_data)\n",
    "\n",
    "# Spiliting Data 67-33 ratio as said by sir\n",
    "from sklearn.model_selection import train_test_split\n",
    "X_train,X_test,y_train,y_test=train_test_split(X_data,y_data,test_size=0.33,random_state=0)"
   ]
  },
  {
   "cell_type": "code",
   "execution_count": 3,
   "metadata": {},
   "outputs": [],
   "source": [
    "my_path = \"facial_expressions-master/resized_images/\"\n",
    "X_train_pics, idx_train_exception = get_pic_matrix(X_train, my_path)\n",
    "X_test_pics, idx_test_exception = get_pic_matrix(X_test, my_path)\n",
    "#throw away unprocessable imgs' idx for y data\n",
    "y_train = np.delete(y_train,idx_train_exception,axis = 0)\n",
    "y_test = np.delete(y_test,idx_test_exception,axis = 0)\n",
    "#convert X_data to ndarray\n",
    "X_train_pics = np.array(X_train_pics)\n",
    "X_test_pics = np.array(X_test_pics)\n",
    "X_train_pics, X_test_pics = X_train_pics / 255.0, X_test_pics / 255.0"
   ]
  },
  {
   "cell_type": "code",
   "execution_count": 4,
   "metadata": {},
   "outputs": [],
   "source": [
    "from sklearn.preprocessing import StandardScaler\n",
    "scaler = StandardScaler()\n",
    "scaler.fit(X_train_pics)\n",
    "\n",
    "X_train = scaler.transform(X_train_pics)\n",
    "X_test = scaler.transform(X_test_pics)"
   ]
  },
  {
   "cell_type": "code",
   "execution_count": 5,
   "metadata": {},
   "outputs": [
    {
     "data": {
      "text/plain": [
       "array(['anger', 'contempt', 'disgust', 'fear', 'happiness', 'neutral',\n",
       "       'sadness', 'surprise'], dtype=object)"
      ]
     },
     "execution_count": 5,
     "metadata": {},
     "output_type": "execute_result"
    }
   ],
   "source": [
    "np.unique(y_test)"
   ]
  },
  {
   "cell_type": "code",
   "execution_count": 6,
   "metadata": {},
   "outputs": [],
   "source": [
    "from sklearn.ensemble import RandomForestClassifier\n",
    "\n",
    "regressor = RandomForestClassifier(n_estimators=20, random_state=0)\n"
   ]
  },
  {
   "cell_type": "code",
   "execution_count": 7,
   "metadata": {},
   "outputs": [],
   "source": [
    "regressor.fit(X_train, y_train)\n",
    "y_pred = regressor.predict(X_test)"
   ]
  },
  {
   "cell_type": "code",
   "execution_count": 8,
   "metadata": {},
   "outputs": [
    {
     "name": "stdout",
     "output_type": "stream",
     "text": [
      "[[   0    0    0    0   31   39    1    3]\n",
      " [   0    0    0    0    0    2    0    0]\n",
      " [   1    0    5    0   39   21    2    0]\n",
      " [   0    0    0    0    5    3    0    0]\n",
      " [   0    0    2    0 1406  438    0    0]\n",
      " [   0    0    2    0  451 1851    0    1]\n",
      " [   0    0    3    0   32   52    3    1]\n",
      " [   0    0    0    0   18  100    0    6]]\n",
      "              precision    recall  f1-score   support\n",
      "\n",
      "       anger       0.00      0.00      0.00        74\n",
      "    contempt       0.00      0.00      0.00         2\n",
      "     disgust       0.42      0.07      0.12        68\n",
      "        fear       0.00      0.00      0.00         8\n",
      "   happiness       0.71      0.76      0.73      1846\n",
      "     neutral       0.74      0.80      0.77      2305\n",
      "     sadness       0.50      0.03      0.06        91\n",
      "    surprise       0.55      0.05      0.09       124\n",
      "\n",
      "   micro avg       0.72      0.72      0.72      4518\n",
      "   macro avg       0.36      0.21      0.22      4518\n",
      "weighted avg       0.70      0.72      0.70      4518\n",
      "\n",
      "0.7239929172200088\n"
     ]
    },
    {
     "name": "stderr",
     "output_type": "stream",
     "text": [
      "/anaconda3/lib/python3.7/site-packages/sklearn/metrics/classification.py:1143: UndefinedMetricWarning: Precision and F-score are ill-defined and being set to 0.0 in labels with no predicted samples.\n",
      "  'precision', 'predicted', average, warn_for)\n"
     ]
    }
   ],
   "source": [
    "from sklearn.metrics import classification_report, confusion_matrix, accuracy_score\n",
    "print(confusion_matrix(y_test,y_pred))\n",
    "print(classification_report(y_test,y_pred))\n",
    "print(accuracy_score(y_test, y_pred))"
   ]
  },
  {
   "cell_type": "code",
   "execution_count": 9,
   "metadata": {},
   "outputs": [],
   "source": [
    "#visualizing confusion matrix in a heat map\n",
    "import seaborn as sns\n",
    "import matplotlib.pyplot as plt\n",
    "def plot_heatmap(y_true,confusion_matrix):\n",
    "    labels = np.unique(y_true)\n",
    "    column = [f'Predicted {label}' for label in labels]\n",
    "    indices = [f'Actual {label}' for label in labels]\n",
    "    table = pd.DataFrame(confusion_matrix, columns = column, index = indices)\n",
    "    return sns.heatmap(table, annot=True, fmt='d',linewidths=.5,cmap=\"YlGnBu\")"
   ]
  },
  {
   "cell_type": "code",
   "execution_count": 11,
   "metadata": {},
   "outputs": [
    {
     "data": {
      "text/plain": [
       "<matplotlib.axes._subplots.AxesSubplot at 0x1a2937e438>"
      ]
     },
     "execution_count": 11,
     "metadata": {},
     "output_type": "execute_result"
    },
    {
     "data": {
      "image/png": "[encoded data removed]",
      "text/plain": [
       "<Figure size 576x432 with 2 Axes>"
      ]
     },
     "metadata": {
      "needs_background": "light"
     },
     "output_type": "display_data"
    }
   ],
   "source": [
    "plt.subplots(figsize=(8, 6))\n",
    "plot_heatmap(y_test,confusion_matrix(y_test,y_pred))"
   ]
  },
  {
   "cell_type": "code",
   "execution_count": null,
   "metadata": {},
   "outputs": [],
   "source": []
  }
 ],
 "metadata": {
  "kernelspec": {
   "display_name": "Python 3",
   "language": "python",
   "name": "python3"
  },
  "language_info": {
   "codemirror_mode": {
    "name": "ipython",
    "version": 3
   },
   "file_extension": ".py",
   "mimetype": "text/x-python",
   "name": "python",
   "nbconvert_exporter": "python",
   "pygments_lexer": "ipython3",
   "version": "3.7.3"
  }
 },
 "nbformat": 4,
 "nbformat_minor": 2
}
