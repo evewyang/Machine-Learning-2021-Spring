{
 "cells": [
  {
   "cell_type": "code",
   "execution_count": 1,
   "metadata": {},
   "outputs": [],
   "source": [
    "# -*- coding: utf-8 -*-\n",
    "\"\"\"\n",
    "Created on Sun Apr 26 17:26:10 2020\n",
    "@author: Rai Kanwar Taimoor\n",
    "@adapted by Wenhan Yang on Wed May 5 2020\n",
    "\"\"\"\n",
    "\n",
    "import numpy as np\n",
    "import pandas as pd\n",
    "import matplotlib.image as img\n",
    "from prettytable import PrettyTable\n",
    "from sklearn.linear_model import LogisticRegression\n",
    "from sklearn.decomposition import PCA\n",
    "\n",
    "def to_lower(arr):\n",
    "    for i in range(0,len(arr)):\n",
    "        arr[i] = arr[i].lower()\n",
    "    return arr\n",
    "def Result_Table(table_col1, table_col2):\n",
    "    table = PrettyTable()\n",
    "    table.add_column(\"Actual Label\", table_col1)\n",
    "    table.add_column(\"Predicted Value\", table_col2)\n",
    "    return table\n",
    "def get_pc(raw_matrix, pca):\n",
    "    #PCA to get the principle component(a vector)\n",
    "    pc = pca.fit_transform(raw_matrix)\n",
    "    explained_variane = pca.explained_variance_ratio_\n",
    "    return pc, explained_variane\n",
    "def vectorize_matrix(mat):\n",
    "    #sraighten the matrix into a column\n",
    "    col_vector = np.reshape(mat, (len(mat)*len(mat[0])*len(mat[0][0]),1))\n",
    "    return col_vector\n",
    "def get_pic_matrix(input_data, filepath):\n",
    "    #initialize a new array to hold vectorized pics\n",
    "    input_pics = []\n",
    "    #two new list to record imgs' idx where they fail to open or process\n",
    "    idx_exception = []\n",
    "    #transfrom the corresponding pictures into matrices, then vectors.\n",
    "    #for train_pics in X_train:\n",
    "    for i in range(0, len(input_data)):\n",
    "        try:\n",
    "            image = img.imread(filepath + input_data[i])\n",
    "        except:\n",
    "            #record \"throw-away\" pics' idx\n",
    "            idx_exception.append(i)\n",
    "            continue\n",
    "        #img_vector, explained_variane = get_pc(image,pca)\n",
    "        input_pics.append(vectorize_matrix(image))\n",
    "    return input_pics, idx_exception"
   ]
  },
  {
   "cell_type": "code",
   "execution_count": 2,
   "metadata": {},
   "outputs": [],
   "source": [
    "# Initialization\n",
    "my_data = pd.read_csv('facial_expressions-master/data/legend.csv').values\n",
    "X_data = my_data[:, 1]\n",
    "y_data = my_data[:, 2]\n",
    "y_data = to_lower(y_data)\n",
    "\n",
    "# Spiliting Data 67-33 ratio as said by sir\n",
    "from sklearn.model_selection import train_test_split\n",
    "X_train,X_test,y_train,y_test=train_test_split(X_data,y_data,test_size=0.33,random_state=0)"
   ]
  },
  {
   "cell_type": "code",
   "execution_count": 3,
   "metadata": {},
   "outputs": [],
   "source": [
    "my_path = \"facial_expressions-master/resized_images/\"\n",
    "X_train_pics, idx_train_exception = get_pic_matrix(X_train, my_path)\n",
    "X_test_pics, idx_test_exception = get_pic_matrix(X_test, my_path)\n",
    "#throw away unprocessable imgs' idx for y data\n",
    "y_train = np.delete(y_train,idx_train_exception,axis = 0)\n",
    "y_test = np.delete(y_test,idx_test_exception,axis = 0)\n",
    "#convert X_data to ndarray\n",
    "X_train_pics = np.array(X_train_pics)\n",
    "X_test_pics = np.array(X_test_pics)\n",
    "X_train_pics, X_test_pics = X_train_pics / 255.0, X_test_pics / 255.0\n",
    "X_train_pics = X_train_pics.reshape((len(X_train_pics),len(X_train_pics[0])))\n",
    "X_test_pics = X_test_pics.reshape((len(X_test_pics),len(X_test_pics[0])))"
   ]
  },
  {
   "cell_type": "code",
   "execution_count": 4,
   "metadata": {},
   "outputs": [
    {
     "name": "stderr",
     "output_type": "stream",
     "text": [
      "/anaconda3/lib/python3.7/site-packages/sklearn/linear_model/logistic.py:758: ConvergenceWarning: lbfgs failed to converge. Increase the number of iterations.\n",
      "  \"of iterations.\", ConvergenceWarning)\n"
     ]
    },
    {
     "name": "stdout",
     "output_type": "stream",
     "text": [
      "Confustion matrix \n",
      " [[  13    0    2    0   18   32    2    7]\n",
      " [   0    0    0    0    2    0    0    0]\n",
      " [   2    0   16    0   17   12   19    2]\n",
      " [   0    0    1    0    4    3    0    0]\n",
      " [  43    1   29    1 1312  375   40   45]\n",
      " [  57    0   16    0  344 1709   62  117]\n",
      " [   5    0    8    0   30   35    9    4]\n",
      " [   4    0    3    0   12   67    4   34]]\n"
     ]
    }
   ],
   "source": [
    "#PCA\n",
    "# pca = PCA(n_components=10)\n",
    "# X_train_final, X_train_explained_variane = get_pc(X_train_pics, pca)\n",
    "# X_test_final, X_test_explained_variane = get_pc(X_test_pics, pca)\n",
    "#to avoid regularization that is by default these parameters are passed so now there is no regularization\n",
    "model = LogisticRegression(solver = 'lbfgs', multi_class = 'multinomial', penalty='l2', C = 2e10, max_iter = 1e7) #to Avoid Regularization !!!\n",
    "model.fit(X_train_pics, y_train)\n",
    "predicted = model.predict(X_test_pics)\n",
    "\n",
    "#to print the table of actual vs predicted value\n",
    "# noob = predicted.astype(str)\n",
    "# y = y_test[:, np.newaxis]\n",
    "# y_p = noob[:, np.newaxis]\n",
    "# print(Result_Table(y,y_p))\n",
    "#to print the values suggested by sir \n",
    "#didnt print false negative cuz already printed in confussion matrix above it would be redundant otherwise\n",
    "from sklearn.metrics import confusion_matrix\n",
    "results = confusion_matrix(y_test,predicted)\n",
    "print(\"Confustion matrix \\n\",results)"
   ]
  },
  {
   "cell_type": "code",
   "execution_count": 5,
   "metadata": {},
   "outputs": [
    {
     "name": "stdout",
     "output_type": "stream",
     "text": [
      "accuracy_score: 68.459\n"
     ]
    }
   ],
   "source": [
    "from sklearn.metrics import accuracy_score\n",
    "accuracy_score = accuracy_score(y_test,predicted)\n",
    "print('accuracy_score: %.3f' % (accuracy_score*100))"
   ]
  },
  {
   "cell_type": "code",
   "execution_count": 6,
   "metadata": {},
   "outputs": [],
   "source": [
    "#visualizing confusion matrix in a heat map\n",
    "import seaborn as sns\n",
    "import matplotlib.pyplot as plt\n",
    "def plot_heatmap(y_true,confusion_matrix):\n",
    "    labels = np.unique(y_true)\n",
    "    column = [f'Predicted {label}' for label in labels]\n",
    "    indices = [f'Actual {label}' for label in labels]\n",
    "    table = pd.DataFrame(confusion_matrix, columns = column, index = indices)\n",
    "    return sns.heatmap(table, annot=True, fmt='d',linewidths=.5,cmap=\"YlGnBu\")"
   ]
  },
  {
   "cell_type": "code",
   "execution_count": 10,
   "metadata": {},
   "outputs": [
    {
     "data": {
      "text/plain": [
       "<matplotlib.axes._subplots.AxesSubplot at 0x1a28e206d8>"
      ]
     },
     "execution_count": 10,
     "metadata": {},
     "output_type": "execute_result"
    },
    {
     "data": {
      "image/png": "[encoded data removed]",
      "text/plain": [
       "<Figure size 576x432 with 2 Axes>"
      ]
     },
     "metadata": {
      "needs_background": "light"
     },
     "output_type": "display_data"
    }
   ],
   "source": [
    "plt.subplots(figsize=(8, 6))\n",
    "plot_heatmap(y_test,results)\n",
    "# plt.title(\"Multinomial Logistic Regression Confusion Matrix Heat Map\")"
   ]
  },
  {
   "cell_type": "code",
   "execution_count": 8,
   "metadata": {},
   "outputs": [
    {
     "data": {
      "text/plain": [
       "array(['anger', 'contempt', 'disgust', 'fear', 'happiness', 'neutral',\n",
       "       'sadness', 'surprise'], dtype=object)"
      ]
     },
     "execution_count": 8,
     "metadata": {},
     "output_type": "execute_result"
    }
   ],
   "source": [
    "np.unique(predicted)"
   ]
  },
  {
   "cell_type": "code",
   "execution_count": null,
   "metadata": {},
   "outputs": [],
   "source": []
  }
 ],
 "metadata": {
  "kernelspec": {
   "display_name": "Python 3",
   "language": "python",
   "name": "python3"
  },
  "language_info": {
   "codemirror_mode": {
    "name": "ipython",
    "version": 3
   },
   "file_extension": ".py",
   "mimetype": "text/x-python",
   "name": "python",
   "nbconvert_exporter": "python",
   "pygments_lexer": "ipython3",
   "version": "3.7.3"
  }
 },
 "nbformat": 4,
 "nbformat_minor": 2
}
