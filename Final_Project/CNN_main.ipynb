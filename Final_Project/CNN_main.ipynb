{
 "cells": [
  {
   "cell_type": "code",
   "execution_count": 1,
   "metadata": {},
   "outputs": [],
   "source": [
    "# -*- coding: utf-8 -*-\n",
    "\"\"\"\n",
    "Created on Sun Apr 26 17:26:10 2020\n",
    "@author: Rai Kanwar Taimoor\n",
    "@adapted by Wenhan Yang on Wed May 5 2020\n",
    "\"\"\"\n",
    "\n",
    "import numpy as np\n",
    "import pandas as pd\n",
    "import matplotlib.image as img\n",
    "from prettytable import PrettyTable\n",
    "from sklearn.linear_model import LogisticRegression\n",
    "from sklearn.decomposition import PCA\n",
    "\n",
    "def to_lower(arr):\n",
    "    for i in range(0,len(arr)):\n",
    "        arr[i] = arr[i].lower()\n",
    "    return arr\n",
    "def Result_Table(table_col1, table_col2):\n",
    "    table = PrettyTable()\n",
    "    table.add_column(\"Actual Label\", table_col1)\n",
    "    table.add_column(\"Predicted Value\", table_col2)\n",
    "    return table\n",
    "def get_pc(raw_matrix, pca):\n",
    "    #PCA to get the principle component(a vector)\n",
    "    pc = pca.fit_transform(raw_matrix)\n",
    "    explained_variane = pca.explained_variance_ratio_\n",
    "    return pc, explained_variane\n",
    "def convertImageToGray(image, cvtr):\n",
    "    #convert RGB(3-channel)/RGBA(4-channel) pics to 2-channel greyscale\n",
    "    gray = cvtr.cvtColor(image, cvtr.COLOR_BGR2GRAY)\n",
    "    return gray\n",
    "def vectorize_matrix(mat):\n",
    "    #sraighten the matrix into a column\n",
    "    col_vector = np.reshape(mat, (len(mat)*len(mat[0]),1))\n",
    "    return col_vector\n",
    "def get_pic_matrix(input_data, filepath):\n",
    "    #initialize a new array to hold vectorized pics\n",
    "    input_pics = []\n",
    "    #two new list to record imgs' idx where they fail to open or process\n",
    "    idx_exception = []\n",
    "    #transfrom the corresponding pictures into matrices, then vectors.\n",
    "    #for train_pics in X_train:\n",
    "    for i in range(0, len(input_data)):\n",
    "        try:\n",
    "            image = img.imread(filepath + input_data[i])\n",
    "            if (len(image.shape) > 2):\n",
    "                #sklearn can only process 2D array\n",
    "                #so convert 2D Greyscale into RGB\n",
    "                image = convertImageToGray(image, img)\n",
    "            elif (len(image.shape) < 2):\n",
    "                #record \"throw-away\" pics' idx\n",
    "                idx_exception.append(i)\n",
    "                continue\n",
    "        except:\n",
    "            #record \"throw-away\" pics' idx\n",
    "            idx_exception.append(i)\n",
    "            continue\n",
    "        #img_vector, explained_variane = get_pc(image,pca)\n",
    "        input_pics.append(vectorize_matrix(image))\n",
    "    return input_pics, idx_exception"
   ]
  },
  {
   "cell_type": "code",
   "execution_count": 2,
   "metadata": {},
   "outputs": [],
   "source": [
    "# Initialization\n",
    "my_data = pd.read_csv('facial_expressions-master/data/legend.csv').values\n",
    "X_data = my_data[0:2000, 1]\n",
    "y_data = my_data[0:2000, 2]\n",
    "y_data = to_lower(y_data)\n",
    "\n",
    "# Spiliting Data 67-33 ratio as said by sir\n",
    "from sklearn.model_selection import train_test_split\n",
    "X_train,X_test,y_train,y_test=train_test_split(X_data,y_data,test_size=0.33,random_state=0)"
   ]
  },
  {
   "cell_type": "code",
   "execution_count": 3,
   "metadata": {},
   "outputs": [],
   "source": [
    "my_path = \"facial_expressions-master/images/\"\n",
    "X_train_pics, idx_train_exception = get_pic_matrix(X_train, my_path)\n",
    "X_test_pics, idx_test_exception = get_pic_matrix(X_test, my_path)\n",
    "#throw away unprocessable imgs' idx for y data\n",
    "y_train = np.delete(y_train,idx_train_exception,axis = 0)\n",
    "y_test = np.delete(y_test,idx_test_exception,axis = 0)\n",
    "#convert X_data to ndarray\n",
    "X_train_pics = np.array(X_train_pics)\n",
    "X_test_pics = np.array(X_test_pics)\n",
    "X_train_pics = X_train_pics.reshape((len(X_train_pics),len(X_train_pics[0])))\n",
    "X_test_pics = X_test_pics.reshape((len(X_test_pics),len(X_test_pics[0])))"
   ]
  },
  {
   "cell_type": "code",
   "execution_count": 43,
   "metadata": {},
   "outputs": [
    {
     "name": "stdout",
     "output_type": "stream",
     "text": [
      "658\n",
      "640\n"
     ]
    }
   ],
   "source": [
    "\n"
   ]
  },
  {
   "cell_type": "code",
   "execution_count": 4,
   "metadata": {},
   "outputs": [],
   "source": [
    "import torch\n",
    "import torch.nn as nn\n",
    "import torch.nn.functional as F\n",
    "import torchvision\n",
    "import torchvision.transforms as transforms\n",
    "import matplotlib.pyplot as plt\n",
    "import numpy as np\n",
    "\n",
    "device = torch.device('cuda' if torch.cuda.is_available() else 'cpu')\n",
    "num_epochs = 5\n",
    "batch_size = 4\n",
    "learning_rate = 0.001\n",
    "classes = ('anger', 'contempt', 'happiness', 'neutral',\n",
    "           'sadness', 'surprise')"
   ]
  },
  {
   "cell_type": "code",
   "execution_count": 5,
   "metadata": {},
   "outputs": [
    {
     "name": "stdout",
     "output_type": "stream",
     "text": [
      "Downloading https://www.cs.toronto.edu/~kriz/cifar-10-python.tar.gz to ./data/cifar-10-python.tar.gz\n"
     ]
    },
    {
     "data": {
      "application/vnd.jupyter.widget-view+json": {
       "model_id": "fae2aea36ad44a7399a2ffb83f4e0a4b",
       "version_major": 2,
       "version_minor": 0
      },
      "text/plain": [
       "HBox(children=(IntProgress(value=1, bar_style='info', max=1), HTML(value='')))"
      ]
     },
     "metadata": {},
     "output_type": "display_data"
    },
    {
     "name": "stdout",
     "output_type": "stream",
     "text": [
      "Extracting ./data/cifar-10-python.tar.gz to ./data\n",
      "Files already downloaded and verified\n"
     ]
    }
   ],
   "source": [
    "# This block is for loading data. THe author uses existing data package 'CIFAR10' here.\n",
    "transform = transforms.Compose(\n",
    "    [transforms.ToTensor(),\n",
    "     transforms.Normalize((0.5, 0.5, 0.5), (0.5, 0.5, 0.5))])\n",
    "\n",
    "# CIFAR10: 60000 32x32 color images in 10 classes, with 6000 images per class\n",
    "train_dataset = torchvision.datasets.CIFAR10(root='./data', train=True,\n",
    "                                        download=True, transform=transform)\n",
    "\n",
    "test_dataset = torchvision.datasets.CIFAR10(root='./data', train=False,\n",
    "                                       download=True, transform=transform)\n",
    "\n",
    "train_loader = torch.utils.data.DataLoader(train_dataset, batch_size=batch_size,\n",
    "                                          shuffle=True)\n",
    "\n",
    "test_loader = torch.utils.data.DataLoader(test_dataset, batch_size=batch_size,\n",
    "                                         shuffle=False)\n"
   ]
  },
  {
   "cell_type": "code",
   "execution_count": 6,
   "metadata": {},
   "outputs": [],
   "source": [
    "class ConvNet(nn.Module):\n",
    "    def __init__(self):\n",
    "        super(ConvNet, self).__init__()\n",
    "        self.conv1 = nn.Conv2d(3, 6, 5)\n",
    "        self.pool = nn.MaxPool2d(2, 2)\n",
    "        self.conv2 = nn.Conv2d(6, 16, 5)\n",
    "        self.fc1 = nn.Linear(16 * 5 * 5, 120)\n",
    "        self.fc2 = nn.Linear(120, 84)\n",
    "        self.fc3 = nn.Linear(84, 10)\n",
    "\n",
    "    def forward(self, x):\n",
    "        # -> n, 3, 32, 32\n",
    "        x = self.pool(F.relu(self.conv1(x)))  # -> n, 6, 14, 14\n",
    "        x = self.pool(F.relu(self.conv2(x)))  # -> n, 16, 5, 5\n",
    "        x = x.view(-1, 16 * 5 * 5)            # -> n, 400\n",
    "        x = F.relu(self.fc1(x))               # -> n, 120\n",
    "        x = F.relu(self.fc2(x))               # -> n, 84\n",
    "        x = self.fc3(x)                       # -> n, 10\n",
    "        return x\n",
    "    \n",
    "model = ConvNet().to(device)\n",
    "criterion = nn.CrossEntropyLoss()\n",
    "optimizer = torch.optim.SGD(model.parameters(), lr=learning_rate)"
   ]
  },
  {
   "cell_type": "code",
   "execution_count": 10,
   "metadata": {},
   "outputs": [
    {
     "name": "stdout",
     "output_type": "stream",
     "text": [
      "Epoch [1/5], Step [2000/12500], Loss: 1.0997\n",
      "Epoch [1/5], Step [4000/12500], Loss: 1.1197\n",
      "Epoch [1/5], Step [6000/12500], Loss: 1.0221\n",
      "Epoch [1/5], Step [8000/12500], Loss: 1.1469\n",
      "Epoch [1/5], Step [10000/12500], Loss: 1.1395\n",
      "Epoch [1/5], Step [12000/12500], Loss: 0.4078\n",
      "Epoch [2/5], Step [2000/12500], Loss: 1.6763\n",
      "Epoch [2/5], Step [4000/12500], Loss: 0.8741\n",
      "Epoch [2/5], Step [6000/12500], Loss: 0.7569\n",
      "Epoch [2/5], Step [8000/12500], Loss: 0.9538\n",
      "Epoch [2/5], Step [10000/12500], Loss: 0.8128\n",
      "Epoch [2/5], Step [12000/12500], Loss: 1.0864\n",
      "Epoch [3/5], Step [2000/12500], Loss: 1.6601\n",
      "Epoch [3/5], Step [4000/12500], Loss: 1.0568\n",
      "Epoch [3/5], Step [6000/12500], Loss: 0.4385\n",
      "Epoch [3/5], Step [8000/12500], Loss: 0.5612\n",
      "Epoch [3/5], Step [10000/12500], Loss: 0.6724\n",
      "Epoch [3/5], Step [12000/12500], Loss: 0.4491\n",
      "Epoch [4/5], Step [2000/12500], Loss: 1.0004\n",
      "Epoch [4/5], Step [4000/12500], Loss: 0.8073\n",
      "Epoch [4/5], Step [6000/12500], Loss: 0.9559\n",
      "Epoch [4/5], Step [8000/12500], Loss: 0.9461\n",
      "Epoch [4/5], Step [10000/12500], Loss: 2.6826\n",
      "Epoch [4/5], Step [12000/12500], Loss: 1.1308\n",
      "Epoch [5/5], Step [2000/12500], Loss: 0.6915\n",
      "Epoch [5/5], Step [4000/12500], Loss: 1.6179\n",
      "Epoch [5/5], Step [6000/12500], Loss: 1.0733\n",
      "Epoch [5/5], Step [8000/12500], Loss: 0.2392\n",
      "Epoch [5/5], Step [10000/12500], Loss: 0.8814\n",
      "Epoch [5/5], Step [12000/12500], Loss: 1.0108\n",
      "Finished Training\n",
      "Accuracy of the network: 61.72 %\n",
      "Accuracy of anger: 71.4 %\n",
      "Accuracy of contempt: 75.0 %\n",
      "Accuracy of happiness: 64.2 %\n",
      "Accuracy of neutral: 27.4 %\n",
      "Accuracy of sadness: 41.3 %\n",
      "Accuracy of surprise: 68.7 %\n"
     ]
    }
   ],
   "source": [
    "n_total_steps = len(train_loader)\n",
    "for epoch in range(num_epochs):\n",
    "    for i, (images, labels) in enumerate(train_loader):\n",
    "        # origin shape: [4, 3, 32, 32] = 4, 3, 1024\n",
    "        # input_layer: 3 input channels, 6 output channels, 5 kernel size\n",
    "        images = images.to(device)\n",
    "        labels = labels.to(device)\n",
    "\n",
    "        # Forward pass\n",
    "        outputs = model(images)\n",
    "        loss = criterion(outputs, labels)\n",
    "\n",
    "        # Backward and optimize\n",
    "        optimizer.zero_grad()\n",
    "        loss.backward()\n",
    "        optimizer.step()\n",
    "\n",
    "        if (i+1) % 2000 == 0:\n",
    "            print (f'Epoch [{epoch+1}/{num_epochs}], Step [{i+1}/{n_total_steps}], Loss: {loss.item():.4f}')\n",
    "\n",
    "print('Finished Training')\n",
    "PATH = './cnn.pth'\n",
    "torch.save(model.state_dict(), PATH)\n",
    "\n",
    "with torch.no_grad():\n",
    "    n_correct = 0\n",
    "    n_samples = 0\n",
    "    n_class_correct = [0 for i in range(10)]\n",
    "    n_class_samples = [0 for i in range(10)]\n",
    "    for images, labels in test_loader:\n",
    "        images = images.to(device)\n",
    "        labels = labels.to(device)\n",
    "        outputs = model(images)\n",
    "        # max returns (value ,index)\n",
    "        _, predicted = torch.max(outputs, 1)\n",
    "        n_samples += labels.size(0)\n",
    "        n_correct += (predicted == labels).sum().item()\n",
    "        \n",
    "        for i in range(batch_size):\n",
    "            label = labels[i]\n",
    "            pred = predicted[i]\n",
    "            if (label == pred):\n",
    "                n_class_correct[label] += 1\n",
    "            n_class_samples[label] += 1\n",
    "\n",
    "    acc = 100.0 * n_correct / n_samples\n",
    "    print(f'Accuracy of the network: {acc} %')\n",
    "\n",
    "    for i in range(len(classes)):\n",
    "        acc = 100.0 * n_class_correct[i] / n_class_samples[i]\n",
    "        print(f'Accuracy of {classes[i]}: {acc} %')"
   ]
  }
 ],
 "metadata": {
  "kernelspec": {
   "display_name": "Python 3",
   "language": "python",
   "name": "python3"
  },
  "language_info": {
   "codemirror_mode": {
    "name": "ipython",
    "version": 3
   },
   "file_extension": ".py",
   "mimetype": "text/x-python",
   "name": "python",
   "nbconvert_exporter": "python",
   "pygments_lexer": "ipython3",
   "version": "3.7.3"
  }
 },
 "nbformat": 4,
 "nbformat_minor": 4
}
