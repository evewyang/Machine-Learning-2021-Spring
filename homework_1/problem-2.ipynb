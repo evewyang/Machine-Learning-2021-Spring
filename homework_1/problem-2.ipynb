{
 "cells": [
  {
   "cell_type": "markdown",
   "metadata": {},
   "source": [
    "# KNN for Iris flowers classification"
   ]
  },
  {
   "cell_type": "code",
   "execution_count": 1,
   "metadata": {},
   "outputs": [],
   "source": [
    "# import modules\n",
    "import matplotlib.pyplot as plt\n",
    "import numpy as np \n",
    "from sklearn.neighbors import KNeighborsClassifier\n",
    "from sklearn import datasets as ds\n",
    "from sklearn.model_selection import train_test_split"
   ]
  },
  {
   "cell_type": "code",
   "execution_count": 2,
   "metadata": {},
   "outputs": [],
   "source": [
    "# load iris dataset\n",
    "iris = ds.load_iris()"
   ]
  },
  {
   "cell_type": "code",
   "execution_count": 3,
   "metadata": {},
   "outputs": [],
   "source": [
    "# assign iris features to X, an array of shape (150,4)\n",
    "# assign iris labels to y, an array of shape (150,)\n",
    "X = iris['data']\n",
    "y = iris['target']"
   ]
  },
  {
   "cell_type": "markdown",
   "metadata": {},
   "source": [
    "## (a) calculate elements in each class"
   ]
  },
  {
   "cell_type": "code",
   "execution_count": 4,
   "metadata": {},
   "outputs": [
    {
     "name": "stdout",
     "output_type": "stream",
     "text": [
      "Class 0 has 50 elements.\n",
      "Class 1 has 50 elements.\n",
      "Class 2 has 50 elements.\n"
     ]
    }
   ],
   "source": [
    "# calculate elements in each class\n",
    "label_id,label_count = np.unique(y, return_counts=True)\n",
    "# print out the result\n",
    "for label, count in zip(label_id, label_count):\n",
    "    print(\"Class %d has %d elements.\"%(label, count))"
   ]
  },
  {
   "cell_type": "markdown",
   "metadata": {},
   "source": [
    "## (b) build a KNeighborsClassifier with k=1"
   ]
  },
  {
   "cell_type": "code",
   "execution_count": 5,
   "metadata": {},
   "outputs": [
    {
     "data": {
      "text/plain": [
       "KNeighborsClassifier(algorithm='auto', leaf_size=30, metric='minkowski',\n",
       "           metric_params=None, n_jobs=None, n_neighbors=1, p=2,\n",
       "           weights='uniform')"
      ]
     },
     "execution_count": 5,
     "metadata": {},
     "output_type": "execute_result"
    }
   ],
   "source": [
    "# initialize the knn model\n",
    "model_knn = KNeighborsClassifier(n_neighbors=1)\n",
    "model_knn.fit(X,y)"
   ]
  },
  {
   "cell_type": "code",
   "execution_count": 6,
   "metadata": {},
   "outputs": [
    {
     "name": "stdout",
     "output_type": "stream",
     "text": [
      "The accuracy is 100%\n"
     ]
    }
   ],
   "source": [
    "# calculate prediction accuracy\n",
    "predicted_label = model_knn.predict(X)\n",
    "# print out the accuracy\n",
    "print(\"The accuracy is %d%%\"%(np.mean(predicted_label == y)*100))"
   ]
  },
  {
   "cell_type": "markdown",
   "metadata": {},
   "source": [
    "## (c) find optimal value of k"
   ]
  },
  {
   "cell_type": "code",
   "execution_count": 7,
   "metadata": {},
   "outputs": [],
   "source": [
    "# split the dataset into training and test\n",
    "X_train, X_test, y_train, y_test = train_test_split(X, y, test_size=0.5, shuffle=True, random_state=0)"
   ]
  },
  {
   "cell_type": "code",
   "execution_count": 8,
   "metadata": {},
   "outputs": [],
   "source": [
    "# try different value of k from 1 to 50\n",
    "K = 50\n",
    "train_accu = np.zeros(50)\n",
    "test_accu = np.zeros(50)\n",
    "for i in range(1,K+1):\n",
    "    # initialize the model\n",
    "    model_knn = KNeighborsClassifier(n_neighbors=i)\n",
    "    # fit the data\n",
    "    model_knn.fit(X_train,y_train)\n",
    "    # store training accuracy in train_accu\n",
    "    predicted_train_label = model_knn.predict(X_train)\n",
    "    train_accu[i-1] = np.mean(predicted_train_label == y_train)\n",
    "    # store validation accuracy in test_acc\n",
    "    predicted_test_label = model_knn.predict(X_test)\n",
    "    test_accu[i-1] = np.mean(predicted_test_label == y_test)"
   ]
  },
  {
   "cell_type": "code",
   "execution_count": 9,
   "metadata": {},
   "outputs": [
    {
     "data": {
      "text/plain": [
       "<matplotlib.legend.Legend at 0x1a1db3de80>"
      ]
     },
     "execution_count": 9,
     "metadata": {},
     "output_type": "execute_result"
    },
    {
     "data": {
      "image/png": "[encoded data removed]",
      "text/plain": [
       "<Figure size 432x288 with 1 Axes>"
      ]
     },
     "metadata": {
      "needs_background": "light"
     },
     "output_type": "display_data"
    }
   ],
   "source": [
    "# plot the training accuracy and test accuracy against k\n",
    "plt.figure()\n",
    "plt.xlabel('k')\n",
    "plt.ylabel('Accuracy (%)')\n",
    "x_range = np.linspace(1, K, num=K)\n",
    "plt.plot(x_range, train_accu, label='training')\n",
    "plt.plot(x_range, test_accu, label='test')\n",
    "plt.legend()"
   ]
  },
  {
   "cell_type": "code",
   "execution_count": 10,
   "metadata": {},
   "outputs": [
    {
     "name": "stdout",
     "output_type": "stream",
     "text": [
      "The optimal k value is: 9\n"
     ]
    }
   ],
   "source": [
    "# find the optimal k value\n",
    "optimal_k = test_accu.argmax() + 1#the test_accu index start from 0\n",
    "# print out the optimal k\n",
    "print(\"The optimal k value is: %d\"%(optimal_k))"
   ]
  },
  {
   "cell_type": "markdown",
   "metadata": {},
   "source": [
    "## (d) predict a new sample"
   ]
  },
  {
   "cell_type": "code",
   "execution_count": 11,
   "metadata": {},
   "outputs": [
    {
     "data": {
      "text/plain": [
       "['sepal length (cm)',\n",
       " 'sepal width (cm)',\n",
       " 'petal length (cm)',\n",
       " 'petal width (cm)']"
      ]
     },
     "execution_count": 11,
     "metadata": {},
     "output_type": "execute_result"
    }
   ],
   "source": [
    "# check the order of the features\n",
    "iris['feature_names']"
   ]
  },
  {
   "cell_type": "code",
   "execution_count": 12,
   "metadata": {},
   "outputs": [],
   "source": [
    "# match the input values with the feature names\n",
    "features = np.array([[3.8, 5.0, 1.2, 4.1]])"
   ]
  },
  {
   "cell_type": "code",
   "execution_count": 13,
   "metadata": {},
   "outputs": [
    {
     "name": "stdout",
     "output_type": "stream",
     "text": [
      "Predicted class of this plant: 0\n"
     ]
    }
   ],
   "source": [
    "model_knn = KNeighborsClassifier(n_neighbors=optimal_k)\n",
    "model_knn.fit(X,y)\n",
    "# make prediction\n",
    "predicted_label = model_knn.predict(features)\n",
    "# print out the prediction result\n",
    "print(\"Predicted class of this plant: %d\"%(predicted_label[0]))"
   ]
  }
 ],
 "metadata": {
  "kernelspec": {
   "display_name": "Python 3",
   "language": "python",
   "name": "python3"
  },
  "language_info": {
   "codemirror_mode": {
    "name": "ipython",
    "version": 3
   },
   "file_extension": ".py",
   "mimetype": "text/x-python",
   "name": "python",
   "nbconvert_exporter": "python",
   "pygments_lexer": "ipython3",
   "version": "3.7.3"
  }
 },
 "nbformat": 4,
 "nbformat_minor": 5
}
