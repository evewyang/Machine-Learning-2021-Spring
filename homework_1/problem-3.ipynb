{
 "cells": [
  {
   "cell_type": "markdown",
   "metadata": {},
   "source": [
    "# K Means clustering"
   ]
  },
  {
   "cell_type": "code",
   "execution_count": 1,
   "metadata": {},
   "outputs": [],
   "source": [
    "# import modules\n",
    "import matplotlib.pyplot as plt\n",
    "from sklearn.cluster import KMeans\n",
    "import numpy as np\n",
    "import pandas as pd"
   ]
  },
  {
   "cell_type": "code",
   "execution_count": 2,
   "metadata": {},
   "outputs": [],
   "source": [
    "# read clust_data\n",
    "df = pd.read_csv('clust_data.csv')"
   ]
  },
  {
   "cell_type": "code",
   "execution_count": 3,
   "metadata": {},
   "outputs": [],
   "source": [
    "data = df.values"
   ]
  },
  {
   "cell_type": "code",
   "execution_count": 4,
   "metadata": {
    "scrolled": true
   },
   "outputs": [
    {
     "data": {
      "text/html": [
       "<div>\n",
       "<style scoped>\n",
       "    .dataframe tbody tr th:only-of-type {\n",
       "        vertical-align: middle;\n",
       "    }\n",
       "\n",
       "    .dataframe tbody tr th {\n",
       "        vertical-align: top;\n",
       "    }\n",
       "\n",
       "    .dataframe thead th {\n",
       "        text-align: right;\n",
       "    }\n",
       "</style>\n",
       "<table border=\"1\" class=\"dataframe\">\n",
       "  <thead>\n",
       "    <tr style=\"text-align: right;\">\n",
       "      <th></th>\n",
       "      <th>V1</th>\n",
       "      <th>V2</th>\n",
       "      <th>V3</th>\n",
       "      <th>V4</th>\n",
       "      <th>V5</th>\n",
       "      <th>V6</th>\n",
       "      <th>V7</th>\n",
       "      <th>V8</th>\n",
       "      <th>V9</th>\n",
       "      <th>V10</th>\n",
       "      <th>...</th>\n",
       "      <th>V41</th>\n",
       "      <th>V42</th>\n",
       "      <th>V43</th>\n",
       "      <th>V44</th>\n",
       "      <th>V45</th>\n",
       "      <th>V46</th>\n",
       "      <th>V47</th>\n",
       "      <th>V48</th>\n",
       "      <th>V49</th>\n",
       "      <th>V50</th>\n",
       "    </tr>\n",
       "  </thead>\n",
       "  <tbody>\n",
       "    <tr>\n",
       "      <th>0</th>\n",
       "      <td>1.448417</td>\n",
       "      <td>2.194434</td>\n",
       "      <td>0.253484</td>\n",
       "      <td>3.271674</td>\n",
       "      <td>1.784326</td>\n",
       "      <td>1.314152</td>\n",
       "      <td>2.349716</td>\n",
       "      <td>1.912047</td>\n",
       "      <td>2.226564</td>\n",
       "      <td>3.388439</td>\n",
       "      <td>...</td>\n",
       "      <td>0.903844</td>\n",
       "      <td>1.825982</td>\n",
       "      <td>-1.000929</td>\n",
       "      <td>2.849224</td>\n",
       "      <td>1.959302</td>\n",
       "      <td>2.571741</td>\n",
       "      <td>4.200965</td>\n",
       "      <td>2.580996</td>\n",
       "      <td>3.321925</td>\n",
       "      <td>1.569531</td>\n",
       "    </tr>\n",
       "    <tr>\n",
       "      <th>1</th>\n",
       "      <td>2.611821</td>\n",
       "      <td>2.880855</td>\n",
       "      <td>1.036606</td>\n",
       "      <td>3.449158</td>\n",
       "      <td>3.062979</td>\n",
       "      <td>1.429632</td>\n",
       "      <td>1.996817</td>\n",
       "      <td>0.843128</td>\n",
       "      <td>2.421644</td>\n",
       "      <td>2.155107</td>\n",
       "      <td>...</td>\n",
       "      <td>2.049050</td>\n",
       "      <td>2.515668</td>\n",
       "      <td>1.333777</td>\n",
       "      <td>1.550993</td>\n",
       "      <td>0.448455</td>\n",
       "      <td>2.386328</td>\n",
       "      <td>4.044751</td>\n",
       "      <td>2.768179</td>\n",
       "      <td>2.216161</td>\n",
       "      <td>1.742731</td>\n",
       "    </tr>\n",
       "    <tr>\n",
       "      <th>2</th>\n",
       "      <td>4.764148</td>\n",
       "      <td>3.163216</td>\n",
       "      <td>1.323310</td>\n",
       "      <td>4.827628</td>\n",
       "      <td>2.620347</td>\n",
       "      <td>2.579631</td>\n",
       "      <td>2.464886</td>\n",
       "      <td>-1.033376</td>\n",
       "      <td>2.004838</td>\n",
       "      <td>3.737990</td>\n",
       "      <td>...</td>\n",
       "      <td>0.801504</td>\n",
       "      <td>1.765635</td>\n",
       "      <td>2.171325</td>\n",
       "      <td>3.643009</td>\n",
       "      <td>3.167170</td>\n",
       "      <td>0.975322</td>\n",
       "      <td>1.996791</td>\n",
       "      <td>2.463768</td>\n",
       "      <td>4.575728</td>\n",
       "      <td>0.236837</td>\n",
       "    </tr>\n",
       "    <tr>\n",
       "      <th>3</th>\n",
       "      <td>2.583472</td>\n",
       "      <td>3.406480</td>\n",
       "      <td>1.379676</td>\n",
       "      <td>1.887976</td>\n",
       "      <td>2.673067</td>\n",
       "      <td>1.101041</td>\n",
       "      <td>2.889585</td>\n",
       "      <td>-0.299666</td>\n",
       "      <td>2.618984</td>\n",
       "      <td>1.920240</td>\n",
       "      <td>...</td>\n",
       "      <td>2.190019</td>\n",
       "      <td>1.341497</td>\n",
       "      <td>3.059539</td>\n",
       "      <td>3.483194</td>\n",
       "      <td>1.726354</td>\n",
       "      <td>1.775252</td>\n",
       "      <td>4.848482</td>\n",
       "      <td>1.114224</td>\n",
       "      <td>3.642899</td>\n",
       "      <td>2.460097</td>\n",
       "    </tr>\n",
       "    <tr>\n",
       "      <th>4</th>\n",
       "      <td>1.833661</td>\n",
       "      <td>3.639340</td>\n",
       "      <td>1.876556</td>\n",
       "      <td>4.474807</td>\n",
       "      <td>4.633710</td>\n",
       "      <td>1.809670</td>\n",
       "      <td>3.600430</td>\n",
       "      <td>0.142749</td>\n",
       "      <td>2.431134</td>\n",
       "      <td>1.973526</td>\n",
       "      <td>...</td>\n",
       "      <td>3.297706</td>\n",
       "      <td>3.250237</td>\n",
       "      <td>-0.376862</td>\n",
       "      <td>2.993644</td>\n",
       "      <td>1.532155</td>\n",
       "      <td>3.179516</td>\n",
       "      <td>2.333227</td>\n",
       "      <td>0.900219</td>\n",
       "      <td>3.089761</td>\n",
       "      <td>1.360005</td>\n",
       "    </tr>\n",
       "  </tbody>\n",
       "</table>\n",
       "<p>5 rows × 50 columns</p>\n",
       "</div>"
      ],
      "text/plain": [
       "         V1        V2        V3        V4        V5        V6        V7  \\\n",
       "0  1.448417  2.194434  0.253484  3.271674  1.784326  1.314152  2.349716   \n",
       "1  2.611821  2.880855  1.036606  3.449158  3.062979  1.429632  1.996817   \n",
       "2  4.764148  3.163216  1.323310  4.827628  2.620347  2.579631  2.464886   \n",
       "3  2.583472  3.406480  1.379676  1.887976  2.673067  1.101041  2.889585   \n",
       "4  1.833661  3.639340  1.876556  4.474807  4.633710  1.809670  3.600430   \n",
       "\n",
       "         V8        V9       V10  ...       V41       V42       V43       V44  \\\n",
       "0  1.912047  2.226564  3.388439  ...  0.903844  1.825982 -1.000929  2.849224   \n",
       "1  0.843128  2.421644  2.155107  ...  2.049050  2.515668  1.333777  1.550993   \n",
       "2 -1.033376  2.004838  3.737990  ...  0.801504  1.765635  2.171325  3.643009   \n",
       "3 -0.299666  2.618984  1.920240  ...  2.190019  1.341497  3.059539  3.483194   \n",
       "4  0.142749  2.431134  1.973526  ...  3.297706  3.250237 -0.376862  2.993644   \n",
       "\n",
       "        V45       V46       V47       V48       V49       V50  \n",
       "0  1.959302  2.571741  4.200965  2.580996  3.321925  1.569531  \n",
       "1  0.448455  2.386328  4.044751  2.768179  2.216161  1.742731  \n",
       "2  3.167170  0.975322  1.996791  2.463768  4.575728  0.236837  \n",
       "3  1.726354  1.775252  4.848482  1.114224  3.642899  2.460097  \n",
       "4  1.532155  3.179516  2.333227  0.900219  3.089761  1.360005  \n",
       "\n",
       "[5 rows x 50 columns]"
      ]
     },
     "execution_count": 4,
     "metadata": {},
     "output_type": "execute_result"
    }
   ],
   "source": [
    "# view the first five rows of df\n",
    "df.head()"
   ]
  },
  {
   "cell_type": "markdown",
   "metadata": {},
   "source": [
    "## (a) apply k-means to the data 15 times, find the optimal number of centers"
   ]
  },
  {
   "cell_type": "code",
   "execution_count": 5,
   "metadata": {},
   "outputs": [],
   "source": [
    "# apply k-means to the data 15 times\n",
    "K = 15\n",
    "inertia = np.zeros(15)\n",
    "for i in range(1,K+1):\n",
    "    # initialize the model\n",
    "    kmeans = KMeans(n_clusters=i, random_state=0, n_init=10)\n",
    "    # fit the data\n",
    "    kmeans.fit(data)\n",
    "    assignments = kmeans.predict(data)\n",
    "    # store inertia in inertia array\n",
    "    centers = np.ndarray((i, data.shape[-1]))\n",
    "    for cluster in range(i):\n",
    "        #update centers\n",
    "        centers[cluster, :] = data[assignments == cluster].mean(0)\n",
    "        inertia[i-1] += ((data[assignments == cluster] - centers[cluster]) ** 2).sum()#distance sum of square"
   ]
  },
  {
   "cell_type": "code",
   "execution_count": 6,
   "metadata": {},
   "outputs": [
    {
     "name": "stdout",
     "output_type": "stream",
     "text": [
      "The elbow point occurs at k=4. Hence, 4 clusters should be used for this data.\n"
     ]
    },
    {
     "data": {
      "image/png": "[encoded data removed]",
      "text/plain": [
       "<Figure size 432x288 with 1 Axes>"
      ]
     },
     "metadata": {
      "needs_background": "light"
     },
     "output_type": "display_data"
    }
   ],
   "source": [
    "# plot inertia against the number of centers\n",
    "plt.plot(range(1,K+1),inertia,\"-x\")\n",
    "print(\"The elbow point occurs at k=4. Hence, 4 clusters should be used for this data.\")"
   ]
  },
  {
   "cell_type": "markdown",
   "metadata": {},
   "source": [
    "## (b) Re-apply k-means using the chosen number of centers"
   ]
  },
  {
   "cell_type": "code",
   "execution_count": 7,
   "metadata": {},
   "outputs": [
    {
     "name": "stdout",
     "output_type": "stream",
     "text": [
      "Cluster 1 has 25 observations.\n",
      "Cluster 2 has 25 observations.\n",
      "Cluster 3 has 25 observations.\n",
      "Cluster 4 has 25 observations.\n",
      "Value of inertia is: 4844.925818\n"
     ]
    }
   ],
   "source": [
    "# reapply k-means with the chosen number of centers\n",
    "kmeans = KMeans(n_clusters = 4, random_state=0, n_init=10)\n",
    "kmeans.fit(data)\n",
    "# count observations in each cluster\n",
    "assignments = kmeans.predict(data)\n",
    "cluster_id, cluster_count= np.unique(assignments, return_counts=True)\n",
    "# calculate inertia\n",
    "inertia = 0\n",
    "for cluster in range(4):\n",
    "    centers = data[assignments == cluster].mean(0)\n",
    "    inertia += ((data[assignments==cluster] - centers) ** 2).sum()\n",
    "# print out the results\n",
    "for i in range(len(cluster_count)):\n",
    "    print(\"Cluster %d has %d observations.\"%(i+1, cluster_count[i]))\n",
    "print(\"Value of inertia is: %f\"%(inertia))"
   ]
  },
  {
   "cell_type": "markdown",
   "metadata": {},
   "source": [
    "## (c) Visualization"
   ]
  },
  {
   "cell_type": "code",
   "execution_count": 8,
   "metadata": {},
   "outputs": [
    {
     "data": {
      "text/plain": [
       "<matplotlib.collections.PathCollection at 0x1a20b43b70>"
      ]
     },
     "execution_count": 8,
     "metadata": {},
     "output_type": "execute_result"
    },
    {
     "data": {
      "image/png": "[encoded data removed]",
      "text/plain": [
       "<Figure size 432x288 with 1 Axes>"
      ]
     },
     "metadata": {
      "needs_background": "light"
     },
     "output_type": "display_data"
    }
   ],
   "source": [
    "# visualize the data\n",
    "plt.scatter(data[:,0], data[:,1], c=assignments)"
   ]
  },
  {
   "cell_type": "markdown",
   "metadata": {},
   "source": [
    "From the graph, it is not a good clustering. We are only using the first 2 varaibles, hence the scatter plot might not be reliable. "
   ]
  }
 ],
 "metadata": {
  "kernelspec": {
   "display_name": "Python 3",
   "language": "python",
   "name": "python3"
  },
  "language_info": {
   "codemirror_mode": {
    "name": "ipython",
    "version": 3
   },
   "file_extension": ".py",
   "mimetype": "text/x-python",
   "name": "python",
   "nbconvert_exporter": "python",
   "pygments_lexer": "ipython3",
   "version": "3.7.3"
  }
 },
 "nbformat": 4,
 "nbformat_minor": 5
}
