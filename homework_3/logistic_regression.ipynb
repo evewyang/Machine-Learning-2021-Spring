{
 "cells": [
  {
   "cell_type": "markdown",
   "metadata": {},
   "source": [
    "# Problem 1 Logistic Regression"
   ]
  },
  {
   "cell_type": "markdown",
   "metadata": {},
   "source": [
    "## 1.1 Fit a logistic regression model"
   ]
  },
  {
   "cell_type": "code",
   "execution_count": 1,
   "metadata": {},
   "outputs": [],
   "source": [
    "import numpy as np\n",
    "import matplotlib.pyplot as plt\n",
    "from sklearn.metrics import accuracy_score\n",
    "import pandas as pd\n",
    "from sklearn.linear_model import LogisticRegression\n",
    "\n",
    "class LogisticRegressionGD:\n",
    "    def __init__(self, lr=0.01, fit_intercept=True, max_epoch=1e5, tolerance=1e-7, verbose=True):\n",
    "        self.lr = lr\n",
    "        self.fit_intercept = fit_intercept\n",
    "        self.max_epoch = max_epoch\n",
    "        self.tolerance = tolerance\n",
    "        self.verbose = True\n",
    "\n",
    "    def add_intercept(self, X):\n",
    "        # add an extra column for the intercept\n",
    "        intercept = np.ones([X.shape[0], 1])\n",
    "        return np.concatenate((intercept, X), axis=1)\n",
    "\n",
    "    def sigmoid(self, z):\n",
    "        return 1 / (1 + np.exp(-z))\n",
    "\n",
    "    def cost_function(self, h, y):\n",
    "        # calculate the loss\n",
    "        # return the loss\n",
    "        p = self.sigmoid(h * self.theta)\n",
    "        loss = - 1/n * (np.dot(y.T, np.log(p)) - np.dot((1 - y).T, np.log(1 - p)))\n",
    "        return loss\n",
    "\n",
    "    def fit(self, X, y):\n",
    "        '''\n",
    "        Parameters\n",
    "        ----------\n",
    "        X : shape (n_samples, n_features)\n",
    "            Training data\n",
    "        y : shape (n_samples,)\n",
    "            Target values, 1 or 0\n",
    "        epochs : The number of epochs\n",
    "        '''\n",
    "\n",
    "        # initialize the parameters\n",
    "        if self.fit_intercept:\n",
    "            X = self.add_intercept(X)\n",
    "        \n",
    "        # initialize the coefficients\n",
    "        self.theta = np.zeros((X.shape[1], 1))\n",
    "\n",
    "        tol = 1e10\n",
    "        n_epoch = 1\n",
    "        while tol > self.tolerance and n_epoch <= self.max_epoch:\n",
    "            old_theta = self.theta.copy()\n",
    "            \n",
    "            # TODO:\n",
    "            # calculate predictions\n",
    "            # pred.shape: [n_samples, 1]\n",
    "            p = self.sigmoid(np.dot(X, self.theta))\n",
    "            \n",
    "            # calculate gradients\n",
    "            # grad.shape:  [n_features, 1]\n",
    "            #-1/n\\sum (y-p)x\n",
    "            n = X.shape[0]\n",
    "            grad = - 1/n * (np.dot(X.T, (y - p)))\n",
    "            \n",
    "            # update the coefficients\n",
    "            self.theta = self.theta - self.lr * grad\n",
    "            \n",
    "            # END\n",
    "            \n",
    "            n_epoch += 1\n",
    "            tol = np.sum(np.abs(self.theta - old_theta))\n",
    "\n",
    "    def predict(self, X, threshold):\n",
    "        \"\"\"\n",
    "        Parameters\n",
    "        ----------\n",
    "        X : shape (n_samples, n_features)\n",
    "        threshold : threshold for make decision\n",
    "        Returns\n",
    "        -------\n",
    "        y : shape (n_samples,)\n",
    "            Predicted class label per sample, 1 or 0\n",
    "        \"\"\"\n",
    "        \n",
    "        # add the intercept to X\n",
    "        X = self.add_intercept(X)\n",
    "        # get the prediction y\n",
    "        y = int(self.sigmoid(X * self.theta) > threshold)\n",
    "        # return prediction y\n",
    "        return y"
   ]
  },
  {
   "cell_type": "code",
   "execution_count": 2,
   "metadata": {},
   "outputs": [],
   "source": [
    "# read the data, transform the target variable y to 0/1 value\n",
    "X_data = pd.read_csv('logistic_x.csv', header = None).values\n",
    "y_data = pd.read_csv('logistic_y.txt', header = None).values\n",
    "y_data = (y_data + 1) / 2"
   ]
  },
  {
   "cell_type": "code",
   "execution_count": 3,
   "metadata": {},
   "outputs": [
    {
     "name": "stdout",
     "output_type": "stream",
     "text": [
      "Model coefficients: w0/intercept = [-2.62004691], w1 = [0.76026934], w2 = [1.17191257]\n"
     ]
    }
   ],
   "source": [
    "# fit the model using the data, and print out the model coefficients w\n",
    "# we include the intercept term, so w is a vector with 3 components\n",
    "# print out the model coeffcients\n",
    "myRegression = LogisticRegressionGD()\n",
    "myRegression.fit(X_data, y_data)\n",
    "print(\"Model coefficients: w0/intercept = %s, w1 = %s, w2 = %s\"%(myRegression.theta[0], myRegression.theta[1], myRegression.theta[2]))"
   ]
  },
  {
   "cell_type": "markdown",
   "metadata": {},
   "source": [
    "## 1.2 Plot the training data and the decision boundary"
   ]
  },
  {
   "cell_type": "code",
   "execution_count": 4,
   "metadata": {},
   "outputs": [
    {
     "name": "stdout",
     "output_type": "stream",
     "text": [
      "Coefficients of linear decision boundary: intercept = [2.23570168], slope = [-0.64874237]\n"
     ]
    },
    {
     "data": {
      "image/png": "[encoded data removed]",
      "text/plain": [
       "<Figure size 432x288 with 1 Axes>"
      ]
     },
     "metadata": {
      "needs_background": "light"
     },
     "output_type": "display_data"
    }
   ],
   "source": [
    "# plot the training data (x axis: first feature, y axis: second feature), use different labels for the two classes\n",
    "plt.scatter(X_data[:,0], X_data[:,1], c = y_data[:,0])\n",
    "# on the same figure, plot the boundary, a straight line showing the boundary separating p>0.5 from p<=0.5\n",
    "x = np.linspace(0,8,100)\n",
    "y = -(myRegression.theta[0] + myRegression.theta[1] * x) / myRegression.theta[2]\n",
    "plt.plot(x,y)\n",
    "print(\"Coefficients of linear decision boundary: intercept = %s, slope = %s\"%(-(myRegression.theta[0] / myRegression.theta[2]) , -(myRegression.theta[1] / myRegression.theta[2])))"
   ]
  }
 ],
 "metadata": {
  "kernelspec": {
   "display_name": "Python 3",
   "language": "python",
   "name": "python3"
  },
  "language_info": {
   "codemirror_mode": {
    "name": "ipython",
    "version": 3
   },
   "file_extension": ".py",
   "mimetype": "text/x-python",
   "name": "python",
   "nbconvert_exporter": "python",
   "pygments_lexer": "ipython3",
   "version": "3.7.3"
  }
 },
 "nbformat": 4,
 "nbformat_minor": 5
}
