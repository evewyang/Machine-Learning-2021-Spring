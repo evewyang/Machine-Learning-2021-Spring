{
 "cells": [
  {
   "cell_type": "markdown",
   "metadata": {},
   "source": [
    "# Problem 3 Naive Bayes"
   ]
  },
  {
   "cell_type": "markdown",
   "metadata": {},
   "source": [
    "## 3.1 implement a Naive Bayes classifier"
   ]
  },
  {
   "cell_type": "code",
   "execution_count": 9,
   "metadata": {},
   "outputs": [],
   "source": [
    "import sys\n",
    "import itertools\n",
    "from collections import Counter\n",
    "import numpy as np\n",
    "from matplotlib import pyplot as plt\n",
    "import time\n",
    "from copy import deepcopy"
   ]
  },
  {
   "cell_type": "code",
   "execution_count": 10,
   "metadata": {},
   "outputs": [],
   "source": [
    "class Model:\n",
    "    def __init__(self, wordlist):\n",
    "        self.wordlist = wordlist\n",
    "\n",
    "    def count_labels(self, data):\n",
    "        \"\"\"\n",
    "        Count the number of positive labels and negative labels.\n",
    "        Returns (a tuple or a numpy array of two elements):\n",
    "            * negative_count: a non-negative integer, which represents the number of negative labels (non-spam emails);\n",
    "            * positive_count: a non-negative integer, which represents the number of positive labels (spam emails).\n",
    "        \"\"\"\n",
    "        labels, _ = zip(*data)\n",
    "        return np.array([len(labels)-sum(labels), sum(labels)])\n",
    "\n",
    "    def count_words(self, wordlist, data):\n",
    "        \"\"\"\n",
    "        Count the number of times that each word appears in emails under a given label.\n",
    "        Returns (a numpy array):\n",
    "            * word_counts: a numpy array with shape (2, L), where L is the length of $wordlist,\n",
    "                - word_counts[0, i] represents the number of times that word $wordlist[i] appears in non-spam (negative) emails, and\n",
    "                - word_counts[1, i] represents the number of times that word $wordlist[i] appears in spam (positive) emails.\n",
    "        \"\"\"\n",
    "        word_counts = {word:np.zeros(2) for word in wordlist}\n",
    "        for label, content in data:\n",
    "            for word in np.unique(content):\n",
    "                try:\n",
    "                    word_counts[word][label] += 1 \n",
    "                except:\n",
    "                    continue\n",
    "        return np.stack(word_counts.values(), -1)\n",
    "\n",
    "    def calculate_probability(self, label_counts, word_counts):\n",
    "        \"\"\"\n",
    "        Calculate the probabilities, both the prior and likelihood.\n",
    "        Returns (a pair of numpy array):\n",
    "            * prior_probs: a numpy array with shape (2, ), only two elements, where\n",
    "                - prior_probs[0] is the prior probability of negative labels, and\n",
    "                - prior_probs[1] is the prior probability of positive labels.\n",
    "            * likelihood_probs: a numpy array with shape (2, L), where L is the length of the word list,\n",
    "                - likelihood_probs[0, i] represents the likelihood probability of the $i-th word in the word list, given that the email is non-spam (negative), and\n",
    "                - likelihood_probs[1, i] represents the likelihood probability of the $i-th word in the word list, given that the email is spam (positive).\n",
    "        \"\"\"\n",
    "        prior_probs = label_counts/sum(label_counts)\n",
    "        likelihood_probs = (word_counts + 1)/(np.expand_dims(label_counts, -1) + 2) \n",
    "        #adjustment in case that words we have never seen before \n",
    "        return prior_probs, likelihood_probs\n",
    "\n",
    "    def fit(self, data):\n",
    "        label_counts = self.count_labels(data)\n",
    "        word_counts = self.count_words(self.wordlist, data)\n",
    "\n",
    "        self.prior_probs, self.likelihood_probs = self.calculate_probability(label_counts, word_counts)\n",
    "\n",
    "        # TO AVOID NUMBER OVERFLOW here we use log probability instead.\n",
    "        self.log_prior_probs = np.log(self.prior_probs)\n",
    "        self.log_likelihood_probs = np.dstack([np.log(1 - self.likelihood_probs), np.log(self.likelihood_probs)])\n",
    "\n",
    "    def predict(self, x):\n",
    "        \"\"\"\n",
    "        Predict whether email $x is a spam or not.\n",
    "        Returns:\n",
    "            * y: a boolean value indicating whether $x is a spam or not.\n",
    "        \"\"\" \n",
    "        #P(x|y = 1)P(y = 1) vs P(x|y = 0)P(y = 0)\n",
    "        y = self.log_prior_probs + np.sum([self.log_likelihood_probs[:,idx,1 if word in x else 0] for idx, word in enumerate(self.wordlist)], 0)     \n",
    "        return y[1] > y[0]"
   ]
  },
  {
   "cell_type": "code",
   "execution_count": 11,
   "metadata": {},
   "outputs": [],
   "source": [
    "def read_data(filename):\n",
    "    \"\"\"\n",
    "    Read the dataset from the file given by name $filename.\n",
    "    The returned object should be a list of pairs of data. In each pair: the first element is 1 (for spam emails) \n",
    "    or 0 (for non-spam emails), the second element is a list of words in the email.\n",
    "    The returned list: \n",
    "        [\n",
    "            (1 , ['a', 'b', 'c']),\n",
    "            (0, ['d', 'e', 'f']),\n",
    "            ...\n",
    "        ]\n",
    "    \"\"\"\n",
    "    data = []\n",
    "    with open(filename, \"r\") as f:\n",
    "        for line in f:\n",
    "            data.append((int(line[0]), line[2:-1].split(' ')))\n",
    "            #we manually trim the first ' ' and last '\\n'\n",
    "    return data\n",
    "\n",
    "def split_train(original_train_data, size=4000):\n",
    "    return original_train_data[:size], original_train_data[size:]\n",
    "\n",
    "\n",
    "def create_wordlist(original_train_data, threshold=26):\n",
    "    \"\"\"\n",
    "    Create a word list from the original training set.\n",
    "    Only get a word if it appears in at least $threshold emails.\n",
    "    Returns:\n",
    "        * a python list containing all the words that occur in at least $threshold emails.\n",
    "    \"\"\"\n",
    "    raw_list = []\n",
    "    word_list = dict()\n",
    "    count = []\n",
    "    for _, content in original_train_data:\n",
    "        raw_list = np.unique(content)\n",
    "        for word in raw_list:\n",
    "            try: \n",
    "                word_list[word] += 1\n",
    "            except:\n",
    "                word_list[word] = 1\n",
    "    \n",
    "    word_list, count = np.array(list(word_list.keys())), np.array(list(word_list.values()))\n",
    "    word_list = word_list[count >= threshold]\n",
    "    return word_list.tolist()"
   ]
  },
  {
   "cell_type": "code",
   "execution_count": 12,
   "metadata": {},
   "outputs": [],
   "source": [
    "# threshold to determine whether to include a word in the dictionary/wordlist.\n",
    "# ie. only words with frequency higher than threshold are included\n",
    "THRESHOLD = 26"
   ]
  },
  {
   "cell_type": "code",
   "execution_count": 13,
   "metadata": {},
   "outputs": [
    {
     "name": "stdout",
     "output_type": "stream",
     "text": [
      "Total # of words: 3048\n"
     ]
    },
    {
     "name": "stderr",
     "output_type": "stream",
     "text": [
      "<ipython-input-13-43360b6167e8>:12: FutureWarning: arrays to stack must be passed as a \"sequence\" type such as list or tuple. Support for non-sequence iterables such as generators is deprecated as of NumPy 1.16 and will raise an error in the future.\n",
      "  model.fit(train_data)\n"
     ]
    },
    {
     "name": "stdout",
     "output_type": "stream",
     "text": [
      "Validation error, # =   61, % =   6.1000%.\n"
     ]
    }
   ],
   "source": [
    "original_train_data = read_data('spam_train.txt')\n",
    "\n",
    "# further split the data into a training set and a validation set\n",
    "train_data, val_data = split_train(original_train_data)\n",
    "\n",
    "# Create the word list.\n",
    "wordlist = create_wordlist(original_train_data, 26)\n",
    "print(\"Total # of words:\", len(wordlist))\n",
    "\n",
    "# fit the model using train_data\n",
    "model = Model(wordlist)\n",
    "model.fit(train_data)\n",
    "\n",
    "# calculate the error rate on val_data (when threshold=26)\n",
    "# compute classification error rates\n",
    "error_count = sum([y != model.predict(x) for y, x in val_data])\n",
    "error_percentage = 100.0 * error_count / len(val_data)\n",
    "# print out the error rate\n",
    "print(\"Validation error, # = {:>4d}, % = {:>8.4f}%.\".format(error_count, error_percentage))"
   ]
  },
  {
   "cell_type": "markdown",
   "metadata": {},
   "source": [
    "## 3.2 try different thresholds, find the optimal threshold (which gives minimum validation error), print out the test error at the optimal threshold"
   ]
  },
  {
   "cell_type": "code",
   "execution_count": 14,
   "metadata": {},
   "outputs": [],
   "source": [
    "def compute_error_rate(model, data):\n",
    "    \n",
    "    error_count = sum([y != model.predict(x) for y, x in data])\n",
    "    return 100.0 * error_count / len(data)"
   ]
  },
  {
   "cell_type": "code",
   "execution_count": 15,
   "metadata": {},
   "outputs": [],
   "source": [
    "thresholds = list(range(1, 35))\n",
    "train_error = []\n",
    "val_error = []\n",
    "test_error = []\n",
    "original_train_data = read_data('spam_train.txt')\n",
    "train_data, val_data = split_train(original_train_data)\n",
    "test_data = read_data('spam_test.txt')"
   ]
  },
  {
   "cell_type": "code",
   "execution_count": 16,
   "metadata": {},
   "outputs": [
    {
     "name": "stdout",
     "output_type": "stream",
     "text": [
      "With threshold 1....\n"
     ]
    },
    {
     "name": "stderr",
     "output_type": "stream",
     "text": [
      "<ipython-input-16-1055289a0954>:10: FutureWarning: arrays to stack must be passed as a \"sequence\" type such as list or tuple. Support for non-sequence iterables such as generators is deprecated as of NumPy 1.16 and will raise an error in the future.\n",
      "  model.fit(train_data)\n"
     ]
    },
    {
     "name": "stdout",
     "output_type": "stream",
     "text": [
      "train:12.275 val:14.7 test:16.5 len(V)=65812\n",
      "time: 2396.615859746933\n",
      "With threshold 2....\n",
      "train:4.45 val:6.1 test:7.3 len(V)=19298\n",
      "time: 709.3737497329712\n",
      "With threshold 3....\n",
      "train:4.0 val:5.4 test:5.9 len(V)=12882\n",
      "time: 474.42129373550415\n",
      "With threshold 4....\n",
      "train:3.975 val:5.5 test:5.3 len(V)=10362\n",
      "time: 380.69529151916504\n",
      "With threshold 5....\n",
      "train:3.95 val:5.5 test:5.2 len(V)=8773\n",
      "time: 322.3561816215515\n",
      "With threshold 6....\n",
      "train:4.1 val:5.6 test:5.4 len(V)=7803\n",
      "time: 286.11717438697815\n",
      "With threshold 7....\n",
      "train:4.225 val:5.5 test:5.4 len(V)=7085\n",
      "time: 259.6546537876129\n",
      "With threshold 8....\n",
      "train:4.2 val:5.1 test:5.5 len(V)=6493\n",
      "time: 238.80849313735962\n",
      "With threshold 9....\n",
      "train:4.4 val:5.1 test:6.0 len(V)=5982\n",
      "time: 218.68049216270447\n",
      "With threshold 10....\n",
      "train:4.55 val:5.0 test:6.1 len(V)=5603\n",
      "time: 205.38423895835876\n",
      "With threshold 11....\n",
      "train:4.55 val:5.1 test:6.2 len(V)=5303\n",
      "time: 193.67969751358032\n",
      "With threshold 12....\n",
      "train:4.625 val:5.0 test:6.2 len(V)=4988\n",
      "time: 182.57376670837402\n",
      "With threshold 13....\n",
      "train:4.65 val:5.1 test:6.4 len(V)=4727\n",
      "time: 172.415105342865\n",
      "With threshold 14....\n",
      "train:4.775 val:5.3 test:6.3 len(V)=4499\n",
      "time: 164.35581350326538\n",
      "With threshold 15....\n",
      "train:4.725 val:5.5 test:6.4 len(V)=4310\n",
      "time: 156.6315586566925\n",
      "With threshold 16....\n",
      "train:4.725 val:5.6 test:6.3 len(V)=4133\n",
      "time: 150.6678183078766\n",
      "With threshold 17....\n",
      "train:4.8 val:5.5 test:6.4 len(V)=3984\n",
      "time: 144.4842562675476\n",
      "With threshold 18....\n",
      "train:4.85 val:5.5 test:6.4 len(V)=3848\n",
      "time: 139.93675303459167\n",
      "With threshold 19....\n",
      "train:5.025 val:5.6 test:6.6 len(V)=3724\n",
      "time: 134.8518669605255\n",
      "With threshold 20....\n",
      "train:5.05 val:5.7 test:6.7 len(V)=3613\n",
      "time: 131.36252880096436\n",
      "With threshold 21....\n",
      "train:5.125 val:5.7 test:6.8 len(V)=3521\n",
      "time: 127.3626606464386\n",
      "With threshold 22....\n",
      "train:5.125 val:5.7 test:6.8 len(V)=3408\n",
      "time: 123.13043785095215\n",
      "With threshold 23....\n",
      "train:5.175 val:5.7 test:6.9 len(V)=3308\n",
      "time: 119.47244238853455\n",
      "With threshold 24....\n",
      "train:5.275 val:5.8 test:7.0 len(V)=3206\n",
      "time: 115.69488406181335\n",
      "With threshold 25....\n",
      "train:5.525 val:6.0 test:7.2 len(V)=3137\n",
      "time: 113.56705689430237\n",
      "With threshold 26....\n",
      "train:5.575 val:6.1 test:7.4 len(V)=3048\n",
      "time: 109.89387154579163\n",
      "With threshold 27....\n",
      "train:5.6 val:6.1 test:7.6 len(V)=2968\n",
      "time: 107.30016040802002\n",
      "With threshold 28....\n",
      "train:5.7 val:6.2 test:7.7 len(V)=2906\n",
      "time: 104.79076480865479\n",
      "With threshold 29....\n",
      "train:5.725 val:6.3 test:7.8 len(V)=2840\n",
      "time: 102.48775863647461\n",
      "With threshold 30....\n",
      "train:5.7 val:6.2 test:7.6 len(V)=2769\n",
      "time: 99.66372466087341\n",
      "With threshold 31....\n",
      "train:5.7 val:6.2 test:7.5 len(V)=2712\n",
      "time: 97.77890944480896\n",
      "With threshold 32....\n",
      "train:5.75 val:6.1 test:7.5 len(V)=2655\n",
      "time: 95.4313383102417\n",
      "With threshold 33....\n",
      "train:5.725 val:6.1 test:7.6 len(V)=2607\n",
      "time: 93.85421395301819\n",
      "With threshold 34....\n",
      "train:5.75 val:6.1 test:7.7 len(V)=2562\n",
      "time: 91.9760468006134\n"
     ]
    }
   ],
   "source": [
    "for th in thresholds:\n",
    "    print('With threshold {}....'.format(th))\n",
    "    time1 = time.time()\n",
    "\n",
    "    # vocabulary selection\n",
    "    wordlist = create_wordlist(original_train_data, th)\n",
    "\n",
    "    # fit model using the wordlist\n",
    "    model = Model(wordlist)\n",
    "    model.fit(train_data)\n",
    "\n",
    "    # compute classification error rates\n",
    "    err_train = compute_error_rate(model, train_data)\n",
    "    err_val = compute_error_rate(model, val_data)\n",
    "    err_test = compute_error_rate(model, test_data)\n",
    "\n",
    "    # store results for plotting\n",
    "    train_error.append(err_train)\n",
    "    val_error.append(err_val)\n",
    "    test_error.append(err_test)\n",
    "\n",
    "    time2 = time.time()\n",
    "    print(\"train:{} val:{} test:{} len(V)={}\".format(err_train, err_val, err_test, len(wordlist)))\n",
    "    print('time: {}'.format(time2 - time1))"
   ]
  },
  {
   "cell_type": "code",
   "execution_count": 21,
   "metadata": {},
   "outputs": [
    {
     "name": "stdout",
     "output_type": "stream",
     "text": [
      "Best performance at validated threshold 9 with test error rate 6.1.\n"
     ]
    },
    {
     "data": {
      "image/png": "[encoded data removed]",
      "text/plain": [
       "<Figure size 432x288 with 1 Axes>"
      ]
     },
     "metadata": {
      "needs_background": "light"
     },
     "output_type": "display_data"
    }
   ],
   "source": [
    "# plot the training and validation error rate vs. the thresholds\n",
    "# choose the threshold with the minimal validation error rate and report the corresponding test error rate\n",
    "\n",
    "plt.plot(thresholds, train_error)\n",
    "plt.plot(thresholds, val_error)\n",
    "plt.legend(['train_error', 'val_error'])\n",
    "# choose my opt\n",
    "opt = np.argmin(val_error) ## correction: should be opt = opt + 1. \n",
    "print('Best performance at validated threshold {} with test error rate {}.'.format(opt, test_error[opt]))"
   ]
  },
  {
   "cell_type": "markdown",
   "metadata": {},
   "source": [
    "the above threshold should be T = 10 = 9 + 1. I just found this error after I ran these codes on my friends computer(which is more advanced and runs much faster), and there is no time to start again on my computer. Thank you for your comprehension."
   ]
  }
 ],
 "metadata": {
  "kernelspec": {
   "display_name": "Python 3",
   "language": "python",
   "name": "python3"
  },
  "language_info": {
   "codemirror_mode": {
    "name": "ipython",
    "version": 3
   },
   "file_extension": ".py",
   "mimetype": "text/x-python",
   "name": "python",
   "nbconvert_exporter": "python",
   "pygments_lexer": "ipython3",
   "version": "3.7.3"
  }
 },
 "nbformat": 4,
 "nbformat_minor": 5
}
