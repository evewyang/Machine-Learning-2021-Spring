{
 "cells": [
  {
   "cell_type": "markdown",
   "metadata": {},
   "source": [
    "# Problem 2: Linear Discriminative Analysis"
   ]
  },
  {
   "cell_type": "markdown",
   "metadata": {},
   "source": [
    "## 2.2 implement GaussianDiscAnalysis class, fit the model with breast cancer data (using the first two features), plot the testing data and the decision boundary"
   ]
  },
  {
   "cell_type": "code",
   "execution_count": 1,
   "metadata": {},
   "outputs": [],
   "source": [
    "import numpy as np\n",
    "from sklearn.model_selection import train_test_split\n",
    "from sklearn.datasets import load_breast_cancer\n",
    "from sklearn.preprocessing import MinMaxScaler\n",
    "from sklearn.metrics import accuracy_score\n",
    "import matplotlib.pyplot as plt\n",
    "\n",
    "\n",
    "class GaussianDiscAnalysis:\n",
    "    \"\"\"\n",
    "    Fits a Linear Discriminant Analysis Model for binary class\n",
    "\n",
    "    \"\"\"\n",
    "\n",
    "    def compute_phi(self, y):\n",
    "        \"\"\"\n",
    "        calculate prior probability of positive class: P(Y=1)\n",
    "        :param y: matrix of nx1\n",
    "        :return: the prior probability\n",
    "        \"\"\"\n",
    "        phi = np.count_nonzero(y)/len(y)\n",
    "        # P(Y=0) = 1 - phi\n",
    "        return phi\n",
    "\n",
    "    def compute_mu(self, X, y):\n",
    "        \"\"\"\n",
    "        compute Mu for the positive class and negative class\n",
    "        :param X: matrix of nxd  (n is sample size and d is number of features)\n",
    "        :param y: matrix of nx1\n",
    "        :param cls: integer 0/1\n",
    "        :return: matrix of 2xd with the first row being the mean of 0 class and the second row being the mean of class 1\n",
    "        \"\"\"\n",
    "        # initialize the matrix Mu\n",
    "        mu = np.zeros((2, X.shape[-1]), dtype=np.float32)\n",
    "        \n",
    "        # compute Mu using the formula\n",
    "        mean_0 = np.mean(X[np.where(y == 0)], axis = 0)\n",
    "        mu[0] = np.reshape(mean_0, (1,len(mean_0)))\n",
    "        mean_1 = np.mean(X[np.where(y == 1)], axis = 0)\n",
    "        mu[1] = np.reshape(mean_1, (1,len(mean_1))) \n",
    "        \n",
    "        # TODO\n",
    "        return mu\n",
    "\n",
    "    def compute_sigma(self, X, y):\n",
    "        \"\"\"\n",
    "        compute the common covariance matrix which is shared by the two classes\n",
    "        :param X: matrix of nxd  (n is sample size and d is number of features)\n",
    "        :param y: matrix of nx1\n",
    "        :return:  dxd covariance matrix\n",
    "        \"\"\"\n",
    "        # compute Mu first\n",
    "        mu = self.mu\n",
    "        \n",
    "        # compute the covariance matrix using the formula\n",
    "        X_0 = X[np.where(y == 0)]\n",
    "        X_1 = X[np.where(y == 1)]\n",
    "        cov = (np.dot((X_0 - mu[0]).T, (X_0 - mu[0])) + np.dot((X_1 - mu[1]).T, (X_1 - mu[1]))) / len(X)\n",
    "        # TODO\n",
    "        return cov\n",
    "\n",
    "    def gaussian_p(self, x, cls):\n",
    "        \"\"\"\n",
    "        Probability of X=x given y (Assume the conditional distribution is gaussian distribution)\n",
    "        To get the inverse and determinant of an matrix you can use the module np.linalg\n",
    "        :param x: 1D vector which is the feature vector for one observation\n",
    "        :param cls: interger 0/1\n",
    "        :return: probability density value of X=x|Y=cls\n",
    "        \"\"\"\n",
    "        # TODO\n",
    "        \n",
    "        # compute d\n",
    "        d = len(x)\n",
    "        # compute the inverse of sigma\n",
    "        inverse_sigma = np.linalg.inv(self.sigma)\n",
    "        # compute determinant of sigma\n",
    "        det_sigma = np.linalg.det(self.sigma)\n",
    "        # compute the probability density value of X=x|Y=cls\n",
    "        constant = 1 / ((2 * np.pi) ** (d / 2) * det_sigma ** (1/2))\n",
    "        \n",
    "        if cls == 0:\n",
    "            this_mu = self.mu[0]\n",
    "        else:\n",
    "            this_mu = self.mu[1]\n",
    "        return constant * np.exp( -1/2 * np.dot(np.dot((np.reshape(x, (1, d)) - this_mu), inverse_sigma), (np.reshape(x, (1, d)) - this_mu).T)) \n",
    "\n",
    "    def fit(self, X, y):\n",
    "        \"\"\"Computes mean, covariance and proabilities of y (phi)\"\"\"\n",
    "        self.d = X.shape[1]\n",
    "        # the prior probability of Y=1\n",
    "        self.phi = self.compute_phi(y)\n",
    "        # mean of X for each class\n",
    "        self.mu = self.compute_mu(X, y)\n",
    "        # the common covariance matrix\n",
    "        self.sigma = self.compute_sigma(X, y)\n",
    "\n",
    "    def predict(self, X):\n",
    "        \"\"\"\n",
    "        make prediction based on P(Y|X).\n",
    "        You can effectively compare P(Y=1)*P(X|Y=1) v.s. P(Y=0)*P(X|Y=0)\n",
    "        :param X: 2D vector which each row representing a data point\n",
    "        :return: 1D vector which each element being 0/1\n",
    "        \"\"\"\n",
    "        # TODO\n",
    "        \n",
    "        # for each data point, calculate P(Y=1)*P(X|Y=1) and P(Y=0)*P(X|Y=0)\n",
    "        # if P(Y=1)*P(X|Y=1) > P(Y=0)*P(X|Y=0), then y is predicted to be 1\n",
    "        # else, y is predicted to be 0\n",
    "            \n",
    "        return [int(self.phi * self.gaussian_p(x, 1) > (1 - self.phi) * self.gaussian_p(x, 0)) for x in X]\n"
   ]
  },
  {
   "cell_type": "code",
   "execution_count": 2,
   "metadata": {},
   "outputs": [],
   "source": [
    "breast_cancer = load_breast_cancer()\n",
    "data = np.array(breast_cancer.data)\n",
    "label = np.array(breast_cancer.target)\n",
    "data = MinMaxScaler().fit_transform(data)"
   ]
  },
  {
   "cell_type": "code",
   "execution_count": 3,
   "metadata": {},
   "outputs": [],
   "source": [
    "# Split the training set and test set (only keep the first two features )\n",
    "train_data, test_data, train_label, test_label = train_test_split(data[:, :2], label, test_size=1 / 4, random_state=0)"
   ]
  },
  {
   "cell_type": "code",
   "execution_count": 4,
   "metadata": {},
   "outputs": [],
   "source": [
    "# fit the model using the training data\n",
    "gda = GaussianDiscAnalysis()\n",
    "gda.fit(train_data, train_label)"
   ]
  },
  {
   "cell_type": "code",
   "execution_count": 5,
   "metadata": {},
   "outputs": [
    {
     "name": "stdout",
     "output_type": "stream",
     "text": [
      "the accuracy score is 0.8951048951048951\n"
     ]
    }
   ],
   "source": [
    "# get predictions for the test data, print out the accuracy score\n",
    "test_pred = gda.predict(test_data)\n",
    "print('the accuracy score is {}'.format(accuracy_score(test_label, test_pred)))"
   ]
  },
  {
   "cell_type": "code",
   "execution_count": 6,
   "metadata": {},
   "outputs": [
    {
     "name": "stdout",
     "output_type": "stream",
     "text": [
      "coefficients of linear decision boundary: intercept = 1.4311620254386697, slope = -2.7373690432520297\n"
     ]
    },
    {
     "data": {
      "image/png": "[encoded data removed]",
      "text/plain": [
       "<Figure size 432x288 with 1 Axes>"
      ]
     },
     "metadata": {
      "needs_background": "light"
     },
     "output_type": "display_data"
    }
   ],
   "source": [
    "\"\"\"\"P2.2 plot the data and the decision boundary\"\"\"\n",
    "# data visualization\n",
    "# plot the testing data (x axis: first feature, y axis: second feature), use different colors for the two classes\n",
    "plt.scatter(test_data[:, 0], test_data[:, 1], c = test_label)\n",
    "plt.xlabel(\"first feature\")\n",
    "plt.ylabel(\"second feature\")\n",
    "# on the same figure, plot the decision boundary\n",
    "theta_T = np.dot((gda.mu[0] - gda.mu[1]), np.linalg.inv(gda.sigma))\n",
    "theta_0 = (np.dot(np.dot(gda.mu[0], 1 / 2 * np.linalg.inv(gda.sigma)), gda.mu[0].T) - np.dot(np.dot(gda.mu[1], 1 / 2 * np.linalg.inv(gda.sigma)), gda.mu[1].T)) + np.log(gda.phi/(1-gda.phi))\n",
    "x = np.linspace(0.1, 0.6, 1000)\n",
    "y = (theta_0 - theta_T[0] * x) / theta_T[1]  \n",
    "plt.plot(x, y)\n",
    "# print out the intercept and the slope of the linear decision boundary\n",
    "print(\"coefficients of linear decision boundary: intercept = %s, slope = %s\"%((theta_0 / theta_T[1]) , (- theta_T[0] / theta_T[1])))"
   ]
  }
 ],
 "metadata": {
  "kernelspec": {
   "display_name": "Python 3",
   "language": "python",
   "name": "python3"
  },
  "language_info": {
   "codemirror_mode": {
    "name": "ipython",
    "version": 3
   },
   "file_extension": ".py",
   "mimetype": "text/x-python",
   "name": "python",
   "nbconvert_exporter": "python",
   "pygments_lexer": "ipython3",
   "version": "3.7.3"
  }
 },
 "nbformat": 4,
 "nbformat_minor": 5
}
